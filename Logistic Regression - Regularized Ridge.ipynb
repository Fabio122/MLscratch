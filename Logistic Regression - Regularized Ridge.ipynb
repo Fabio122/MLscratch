{
 "cells": [
  {
   "cell_type": "code",
   "execution_count": 2,
   "metadata": {},
   "outputs": [],
   "source": [
    "import pandas as pd\n",
    "import numpy as np"
   ]
  },
  {
   "cell_type": "code",
   "execution_count": 3,
   "metadata": {},
   "outputs": [],
   "source": [
    "data = pd.read_csv('ex2data1.txt', sep=\",\", header=None)"
   ]
  },
  {
   "cell_type": "code",
   "execution_count": 4,
   "metadata": {},
   "outputs": [],
   "source": [
    "X = np.array(data.iloc[:,0:2])\n",
    "y = np.array(data.iloc[:,2:3])"
   ]
  },
  {
   "cell_type": "code",
   "execution_count": 5,
   "metadata": {},
   "outputs": [],
   "source": [
    "from sklearn.model_selection import train_test_split\n",
    "xTrain, xTest, yTrain, yTest = train_test_split(X, y, test_size = 0.2, random_state = 0)"
   ]
  },
  {
   "cell_type": "code",
   "execution_count": 107,
   "metadata": {},
   "outputs": [],
   "source": [
    "class logistic_regression:\n",
    "    def __init__(self, learning_rate, iterations):\n",
    "        self.learning_rate = learning_rate\n",
    "        self.iterations = iterations\n",
    "\n",
    "    \n",
    "    def sigmoid(self,z):\n",
    "        return 1/(1+np.exp(-z))\n",
    "    \n",
    "    def loss(self, y_pred, y):\n",
    "        return(-y * np.log(y_pred) - (1-y) * np.log(1-y_pred)).mean()\n",
    "    \n",
    "    def fit(self, X,y):\n",
    "        self.theta = np.ones(X.shape[1])\n",
    "        lst = []\n",
    "        m = y.size\n",
    "        for i in range(0,self.iterations):\n",
    "            z = np.dot(X, self.theta)\n",
    "            y_pred = self.sigmoid(z)\n",
    "            \n",
    "            loss = y_pred - y.ravel()\n",
    "            \n",
    "            lamda = 0.5\n",
    "            \n",
    "            gradient = (1/m) * (np.dot(X.T, loss)) + (lamda * self.theta)\n",
    "            \n",
    "            self.theta = self.theta - self.learning_rate * gradient \n",
    "            \n",
    "            error = (-y * np.log(y_pred)) - ((1-y)*np.log(1-y_pred))\n",
    "            \n",
    "            cost_regulator = (lamda / (2*m)) * np.sum(np.square(self.theta))\n",
    "            \n",
    "            cost = (1/m * np.sum(error)) + cost_regulator\n",
    "            \n",
    "  \n",
    "            if i%100==0:print(\"Iteration:\",i,\"Cost:\",cost)\n",
    "            \n",
    "            b = i - 1\n",
    "            lst.append(cost)\n",
    "            if lst[b]<cost:break\n",
    "        return self.theta, y_pred"
   ]
  },
  {
   "cell_type": "code",
   "execution_count": 108,
   "metadata": {},
   "outputs": [
    {
     "name": "stderr",
     "output_type": "stream",
     "text": [
      "/home/fabs/anaconda3/lib/python3.7/site-packages/ipykernel_launcher.py:29: RuntimeWarning: divide by zero encountered in log\n",
      "/home/fabs/anaconda3/lib/python3.7/site-packages/ipykernel_launcher.py:29: RuntimeWarning: invalid value encountered in multiply\n"
     ]
    },
    {
     "name": "stdout",
     "output_type": "stream",
     "text": [
      "Iteration: 0 Cost: nan\n",
      "Iteration: 100 Cost: nan\n",
      "Iteration: 200 Cost: nan\n",
      "Iteration: 300 Cost: nan\n",
      "Iteration: 400 Cost: 550.1883453756614\n",
      "Iteration: 500 Cost: 55.29935269403237\n",
      "Iteration: 600 Cost: 55.027125251772745\n",
      "Iteration: 700 Cost: 54.965001843374196\n",
      "Iteration: 800 Cost: 54.948119634380845\n",
      "Iteration: 900 Cost: 54.942654398957906\n",
      "Iteration: 1000 Cost: 54.94065150663055\n",
      "Iteration: 1100 Cost: 54.939865598866774\n",
      "Iteration: 1200 Cost: 54.939547055712374\n",
      "Iteration: 1300 Cost: 54.93941608586968\n",
      "Iteration: 1400 Cost: 54.93936190840296\n",
      "Iteration: 1500 Cost: 54.939339439780085\n",
      "Iteration: 1600 Cost: 54.939330111585456\n",
      "Iteration: 1700 Cost: 54.93932623712151\n",
      "Iteration: 1800 Cost: 54.93932462756643\n",
      "Iteration: 1900 Cost: 54.93932395886323\n",
      "Iteration: 2000 Cost: 54.93932368103598\n",
      "Iteration: 2100 Cost: 54.9393235656051\n",
      "Iteration: 2200 Cost: 54.93932351764596\n",
      "Iteration: 2300 Cost: 54.93932349771986\n",
      "Iteration: 2400 Cost: 54.939323489440966\n",
      "Iteration: 2500 Cost: 54.93932348600123\n",
      "Iteration: 2600 Cost: 54.93932348457208\n",
      "Iteration: 2700 Cost: 54.939323483978306\n",
      "Iteration: 2800 Cost: 54.939323483731606\n",
      "Iteration: 2900 Cost: 54.9393234836291\n",
      "Iteration: 3000 Cost: 54.93932348358651\n",
      "Iteration: 3100 Cost: 54.93932348356881\n",
      "Iteration: 3200 Cost: 54.93932348356146\n",
      "Iteration: 3300 Cost: 54.93932348355841\n",
      "Iteration: 3400 Cost: 54.93932348355714\n"
     ]
    }
   ],
   "source": [
    "clf = logistic_regression(learning_rate=0.0001, iterations=90000)\n",
    "\n",
    "coeff, y_pred = clf.fit(xTrain, yTrain)\n",
    "\n",
    "\n"
   ]
  },
  {
   "cell_type": "code",
   "execution_count": 109,
   "metadata": {},
   "outputs": [
    {
     "name": "stdout",
     "output_type": "stream",
     "text": [
      "Confusion Matrix :\n",
      "[[25  7]\n",
      " [ 1 47]]\n",
      "Accuracy Score : 0.9\n",
      "Report : \n",
      "              precision    recall  f1-score   support\n",
      "\n",
      "           0       0.96      0.78      0.86        32\n",
      "           1       0.87      0.98      0.92        48\n",
      "\n",
      "   micro avg       0.90      0.90      0.90        80\n",
      "   macro avg       0.92      0.88      0.89        80\n",
      "weighted avg       0.91      0.90      0.90        80\n",
      "\n"
     ]
    }
   ],
   "source": [
    "# Making guesses\n",
    "\n",
    "def make_predictions(X, coeff):\n",
    "    z = np.dot(X, coeff)\n",
    "    y_Pred = 1/(1+np.exp(-z))\n",
    "    y_Pred = np.where(y_Pred <= 0.654, 0, 1)\n",
    "    return y_Pred\n",
    "\n",
    "y_Pred_train = make_predictions(xTrain, coeff)\n",
    "y_Pred_test = make_predictions(xTest, coeff)\n",
    "\n",
    "\n",
    "from sklearn.metrics import confusion_matrix \n",
    "from sklearn.metrics import accuracy_score \n",
    "from sklearn.metrics import classification_report \n",
    "\n",
    "def accuracy_check(true_y, pred_y):\n",
    "    results = confusion_matrix(true_y, pred_y) \n",
    "    print ('Confusion Matrix :')\n",
    "    print(results) \n",
    "    print ('Accuracy Score :',accuracy_score(true_y, pred_y))\n",
    "    print ('Report : ')\n",
    "    print (classification_report(true_y, pred_y))\n",
    "\n",
    "# Checking accuracy for Test data\n",
    "accuracy_check(yTrain, y_Pred_train)"
   ]
  },
  {
   "cell_type": "code",
   "execution_count": 110,
   "metadata": {},
   "outputs": [
    {
     "name": "stdout",
     "output_type": "stream",
     "text": [
      "Confusion Matrix :\n",
      "[[ 8  0]\n",
      " [ 1 11]]\n",
      "Accuracy Score : 0.95\n",
      "Report : \n",
      "              precision    recall  f1-score   support\n",
      "\n",
      "           0       0.89      1.00      0.94         8\n",
      "           1       1.00      0.92      0.96        12\n",
      "\n",
      "   micro avg       0.95      0.95      0.95        20\n",
      "   macro avg       0.94      0.96      0.95        20\n",
      "weighted avg       0.96      0.95      0.95        20\n",
      "\n"
     ]
    }
   ],
   "source": [
    "accuracy_check(yTest, y_Pred_test)"
   ]
  },
  {
   "cell_type": "code",
   "execution_count": null,
   "metadata": {},
   "outputs": [],
   "source": []
  },
  {
   "cell_type": "code",
   "execution_count": null,
   "metadata": {},
   "outputs": [],
   "source": []
  },
  {
   "cell_type": "code",
   "execution_count": null,
   "metadata": {},
   "outputs": [],
   "source": []
  }
 ],
 "metadata": {
  "kernelspec": {
   "display_name": "Python 3",
   "language": "python",
   "name": "python3"
  },
  "language_info": {
   "codemirror_mode": {
    "name": "ipython",
    "version": 3
   },
   "file_extension": ".py",
   "mimetype": "text/x-python",
   "name": "python",
   "nbconvert_exporter": "python",
   "pygments_lexer": "ipython3",
   "version": "3.7.3"
  }
 },
 "nbformat": 4,
 "nbformat_minor": 2
}
