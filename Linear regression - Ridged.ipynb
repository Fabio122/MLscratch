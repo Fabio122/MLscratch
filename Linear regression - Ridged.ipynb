{
 "cells": [
  {
   "cell_type": "code",
   "execution_count": 1,
   "metadata": {},
   "outputs": [],
   "source": [
    "import pandas as pd\n",
    "import numpy as np\n",
    "import matplotlib.pyplot as plt\n",
    "%matplotlib inline"
   ]
  },
  {
   "cell_type": "code",
   "execution_count": 2,
   "metadata": {},
   "outputs": [],
   "source": [
    "# Generate random data\n",
    "X = 2 * np.random.rand(100,1)\n",
    "y = 2+ 3 * X + np.random.randn(100,1)\n",
    "\n",
    "# Add ones\n",
    "m = y.size\n",
    "x_0 = np.ones((m,1))\n",
    "X = np.hstack((x_0, X))\n",
    "\n",
    "# Initialize theta\n",
    "theta = np.ones((X.shape[1])) \n"
   ]
  },
  {
   "cell_type": "code",
   "execution_count": 3,
   "metadata": {},
   "outputs": [
    {
     "name": "stdout",
     "output_type": "stream",
     "text": [
      "Slope:\n",
      " 1.9400035893606282 \n",
      "Intercept:\n",
      " 3.0478840913604506\n"
     ]
    }
   ],
   "source": [
    "def batch_gd (X, y, learning_rate, iterations, theta):\n",
    "    for i in range(1, iterations):\n",
    "        predictions = np.dot(X, theta)\n",
    "        loss = predictions - y.ravel()        \n",
    "        cost = (1/2*m) * np.sum(loss**2)\n",
    "        theta = theta - (1/m) * 0.01 * np.dot(X.T, loss)\n",
    "    return theta, cost\n",
    "\n",
    "learning_rate = 0.1\n",
    "iterations = 1000\n",
    "\n",
    "parameters, cost = batch_gd(X,y, learning_rate, iterations, theta)\n",
    "print(\"Slope:\\n\",parameters[0],\"\\nIntercept:\\n\", parameters[1])\n",
    "slope, intercept= parameters"
   ]
  },
  {
   "cell_type": "code",
   "execution_count": 40,
   "metadata": {},
   "outputs": [],
   "source": [
    "def ridge_Reg(X,y, theta, lamda= 0.1):\n",
    "    ''' Cost function for ridge regression (L2)'''\n",
    "    for i in range(1, 10):\n",
    "        m = y.size\n",
    "        J = 0\n",
    "        predictions = np.dot(X, theta)\n",
    "        learning_rate = 0.01\n",
    "        loss = predictions - y.ravel()\n",
    "        cost_regulator = (lamda / (2*m)) * np.sum(np.square(theta))\n",
    "        cost = ((1/(2*m))* np.sum(loss**2)) + cost_regulator\n",
    "    \n",
    "    \n",
    "        theta = theta - (1/m) * learning_rate * (np.dot(X.T, loss)) + lamda *theta\n",
    "        print(cost)\n",
    "    "
   ]
  },
  {
   "cell_type": "code",
   "execution_count": 41,
   "metadata": {},
   "outputs": [
    {
     "name": "stdout",
     "output_type": "stream",
     "text": [
      "5.787013745951987\n",
      "4.9362083747968795\n",
      "4.105563764069769\n",
      "3.310742202911571\n",
      "2.570919620816826\n",
      "1.9094323062506957\n",
      "1.3545346465770212\n",
      "0.9402863954131231\n",
      "0.707591017477302\n"
     ]
    }
   ],
   "source": [
    "ridge_Reg(X,y, theta)"
   ]
  },
  {
   "cell_type": "code",
   "execution_count": null,
   "metadata": {},
   "outputs": [],
   "source": []
  }
 ],
 "metadata": {
  "kernelspec": {
   "display_name": "Python 3",
   "language": "python",
   "name": "python3"
  },
  "language_info": {
   "codemirror_mode": {
    "name": "ipython",
    "version": 3
   },
   "file_extension": ".py",
   "mimetype": "text/x-python",
   "name": "python",
   "nbconvert_exporter": "python",
   "pygments_lexer": "ipython3",
   "version": "3.7.3"
  }
 },
 "nbformat": 4,
 "nbformat_minor": 2
}
