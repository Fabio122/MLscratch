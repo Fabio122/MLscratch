{
 "cells": [
  {
   "cell_type": "markdown",
   "metadata": {},
   "source": [
    "# Dataset info\n",
    "\n",
    "From Wikipedia:\n",
    "*\"The MNIST database (Modified National Institute of Standards and Technology database) is a large database of handwritten digits that is commonly used for training various image processing systems. \"*\n",
    "\n",
    "https://en.wikipedia.org/wiki/MNIST_database"
   ]
  },
  {
   "cell_type": "code",
   "execution_count": 1,
   "metadata": {},
   "outputs": [
    {
     "data": {
      "text/plain": [
       "(60000, 785)"
      ]
     },
     "execution_count": 1,
     "metadata": {},
     "output_type": "execute_result"
    }
   ],
   "source": [
    "import pandas as pd\n",
    "import numpy as np\n",
    "import matplotlib.pyplot as plt\n",
    "data = pd.read_csv(\"mnist_train.csv\")\n",
    "data.shape"
   ]
  },
  {
   "cell_type": "code",
   "execution_count": 2,
   "metadata": {},
   "outputs": [
    {
     "data": {
      "text/plain": [
       "(5000, 785)"
      ]
     },
     "execution_count": 2,
     "metadata": {},
     "output_type": "execute_result"
    }
   ],
   "source": [
    "# First 5k rows due to processing speed.\n",
    "data = data.iloc[0:5000,:]\n",
    "data.shape"
   ]
  },
  {
   "cell_type": "code",
   "execution_count": 3,
   "metadata": {},
   "outputs": [
    {
     "name": "stdout",
     "output_type": "stream",
     "text": [
      "y shape: (5000,)\n",
      "X + intercept shape: (5000, 785)\n"
     ]
    }
   ],
   "source": [
    "# Target\n",
    "y = data.pop(\"label\")\n",
    "\n",
    "# Size (10k)\n",
    "m = y.size\n",
    "\n",
    "X = data\n",
    "\n",
    "# Add intercept (x_0)\n",
    "X = np.hstack((np.ones((m,1)),X))\n",
    "\n",
    "# Check shapes\n",
    "print(\"y shape:\", y.shape)\n",
    "print(\"X + intercept shape:\", X.shape)"
   ]
  },
  {
   "cell_type": "code",
   "execution_count": 4,
   "metadata": {},
   "outputs": [
    {
     "name": "stderr",
     "output_type": "stream",
     "text": [
      "/home/fabs/anaconda3/lib/python3.7/site-packages/numpy/core/fromnumeric.py:56: FutureWarning: Series.nonzero() is deprecated and will be removed in a future version.Use Series.to_numpy().nonzero() instead\n",
      "  return getattr(obj, method)(*args, **kwds)\n"
     ]
    },
    {
     "data": {
      "image/png": "[encoded data removed]",
      "text/plain": [
       "<Figure size 432x288 with 10 Axes>"
      ]
     },
     "metadata": {
      "needs_background": "light"
     },
     "output_type": "display_data"
    }
   ],
   "source": [
    "# Visualizing characters \n",
    "data = np.array(data)\n",
    "fig, ax = plt.subplots(2,5)\n",
    "ax = ax.flatten()\n",
    "for i in range(10):\n",
    "    im_idx = np.argwhere(y == i)[0]\n",
    "    plottable_image = np.reshape(data[im_idx], (28, 28))\n",
    "    ax[i].imshow(plottable_image, cmap='gray_r')"
   ]
  },
  {
   "cell_type": "code",
   "execution_count": 5,
   "metadata": {},
   "outputs": [],
   "source": [
    "# Splitting & Shuffling test/train data.\n",
    "\n",
    "from sklearn.model_selection import train_test_split\n",
    "xTrain, xTest, yTrain, yTest = train_test_split(X, y, test_size = 0.20, random_state = 0)"
   ]
  },
  {
   "cell_type": "code",
   "execution_count": 6,
   "metadata": {},
   "outputs": [],
   "source": [
    "# Functions\n",
    "\n",
    "def get_hypothesis(X, theta):\n",
    "    z = np.dot(X,theta)\n",
    "    return 1.0/(1+np.exp(-z))\n",
    "\n",
    "def cross_entropy(hypothesis, y):\n",
    "    return (-y * np.log(hypothesis) - (1 - y) * np.log(1 - hypothesis)).mean()\n",
    "\n",
    "def gradient_descent(X,y,theta, learning_rate, iterations):\n",
    "    # Stores last iteration cost\n",
    "    temp_cost =[]\n",
    "    for i in range(1, iterations):\n",
    "        hypothesis = get_hypothesis(X, theta)\n",
    "        loss = hypothesis - y.ravel()\n",
    "        gradient = (1/m) * np.dot(X.T, loss)\n",
    "        # Updating coefficients \n",
    "        theta = theta - learning_rate * gradient\n",
    "        cost = cross_entropy(hypothesis, y)\n",
    "        # temp_cost index\n",
    "        if i%1000 ==0:\n",
    "            print(\"Iteration:\",i,\"Cost:\", cost)\n",
    "        b = i-1\n",
    "        temp_cost.append(cost)\n",
    "        if temp_cost[b]<cost:break\n",
    "        # Print Cost every 1000th iteration\n",
    "    return theta\n",
    "    "
   ]
  },
  {
   "cell_type": "code",
   "execution_count": 7,
   "metadata": {},
   "outputs": [],
   "source": [
    "# Coding targets per classifier\n",
    "\n",
    "zero_target = np.array(yTrain.replace(to_replace = [0,1,2,3,4,5,6,7,8,9], value = [1,0,0,0,0,0,0,0,0,0]))\n",
    "one_target = np.array(yTrain.replace(to_replace = [0,1,2,3,4,5,6,7,8,9], value = [0,1,0,0,0,0,0,0,0,0]))\n",
    "two_target = np.array(yTrain.replace(to_replace = [0,1,2,3,4,5,6,7,8,9], value = [0,0,1,0,0,0,0,0,0,0]))\n",
    "three_target = np.array(yTrain.replace(to_replace = [0,1,2,3,4,5,6,7,8,9], value = [0,0,0,1,0,0,0,0,0,0]))\n",
    "four_target = np.array(yTrain.replace(to_replace = [0,1,2,3,4,5,6,7,8,9], value = [0,0,0,0,1,0,0,0,0,0]))\n",
    "five_target = np.array(yTrain.replace(to_replace = [0,1,2,3,4,5,6,7,8,9], value = [0,0,0,0,0,1,0,0,0,0]))\n",
    "six_target = np.array(yTrain.replace(to_replace = [0,1,2,3,4,5,6,7,8,9], value = [0,0,0,0,0,0,1,0,0,0]))\n",
    "seven_target = np.array(yTrain.replace(to_replace = [0,1,2,3,4,5,6,7,8,9], value = [0,0,0,0,0,0,0,1,0,0]))\n",
    "eight_target = np.array(yTrain.replace(to_replace = [0,1,2,3,4,5,6,7,8,9], value = [0,0,0,0,0,0,0,0,1,0]))\n",
    "nine_target = np.array(yTrain.replace(to_replace = [0,1,2,3,4,5,6,7,8,9], value = [0,0,0,0,0,0,0,0,0,1]))"
   ]
  },
  {
   "cell_type": "code",
   "execution_count": 9,
   "metadata": {},
   "outputs": [
    {
     "name": "stdout",
     "output_type": "stream",
     "text": [
      "Iteration: 1000 Cost: 0.019885499974928236\n",
      "Iteration: 1000 Cost: 0.024088136747771324\n",
      "Iteration: 1000 Cost: 0.06026047506219357\n",
      "Iteration: 1000 Cost: 0.07023518225790153\n",
      "Iteration: 1000 Cost: 0.04788382405292512\n",
      "Iteration: 1000 Cost: 0.061362033755611424\n",
      "Iteration: 1000 Cost: 0.031650994216474854\n",
      "Iteration: 1000 Cost: 0.036334268815031344\n",
      "Iteration: 1000 Cost: 0.11220012845492999\n",
      "Iteration: 1000 Cost: 0.0939312997944439\n"
     ]
    }
   ],
   "source": [
    "# Listing targets\n",
    "targets = [zero_target,one_target,two_target,three_target,four_target,five_target,six_target,seven_target, eight_target, nine_target]\n",
    "\n",
    "# Initiating theta (coefficients)\n",
    "initial_theta = np.zeros(xTrain.shape[1])\n",
    "\n",
    "learning_rate = 0.00001\n",
    "iterations = 2000\n",
    "\n",
    "theta_matrix = []\n",
    "for target in targets:\n",
    "    theta_matrix.append(gradient_descent(xTrain, target, initial_theta, learning_rate, iterations))\n",
    "\n",
    "# Run get_hypothesis with the found thetas - Training\n",
    "probability_per_class_training = pd.DataFrame(get_hypothesis(theta_matrix, xTrain.T))\n",
    "\n",
    "# Get the highest value per row, return column number - Training\n",
    "results_training = probability_per_class_training.T.idxmax(axis =1)\n",
    "\n",
    "# Run get_hypothesis with the found thetas - Test\n",
    "probability_per_class_test = pd.DataFrame(get_hypothesis(theta_matrix, xTest.T))\n",
    "\n",
    "# Get the highest value per row, return column number - Test\n",
    "results_test = probability_per_class_test.T.idxmax(axis =1)"
   ]
  },
  {
   "cell_type": "code",
   "execution_count": 10,
   "metadata": {},
   "outputs": [],
   "source": [
    "# array'ing for easier indexing\n",
    "yTrain =np.array(yTrain)\n",
    "yTest =np.array(yTest)"
   ]
  },
  {
   "cell_type": "code",
   "execution_count": 11,
   "metadata": {},
   "outputs": [
    {
     "name": "stdout",
     "output_type": "stream",
     "text": [
      " ------- TRAINING SET ACCURACY -------\n",
      "Confusion Matrix:\n",
      "\n",
      "[[390   0   0   0   1   0   1   0   1   0]\n",
      " [  0 446   2   0   0   1   0   0   3   0]\n",
      " [  2   3 357   0   3   2   0   3  12   2]\n",
      " [  0   1   7 370   1   6   1   3   2   3]\n",
      " [  0   2   1   0 429   0   3   0   1   9]\n",
      " [  3   1   3   8   3 312   3   0   4   6]\n",
      " [  1   2   0   0   0   2 394   0   1   0]\n",
      " [  0   2   2   0   4   0   0 409   1   9]\n",
      " [  0   3   3   5   2   3   1   1 340   3]\n",
      " [  3   2   2   3   4   2   0  10   4 371]]\n",
      "Accuracy Score: 0.9545\n",
      "Report:\n",
      "\n",
      "              precision    recall  f1-score   support\n",
      "\n",
      "           0       0.98      0.99      0.98       393\n",
      "           1       0.97      0.99      0.98       452\n",
      "           2       0.95      0.93      0.94       384\n",
      "           3       0.96      0.94      0.95       394\n",
      "           4       0.96      0.96      0.96       445\n",
      "           5       0.95      0.91      0.93       343\n",
      "           6       0.98      0.98      0.98       400\n",
      "           7       0.96      0.96      0.96       427\n",
      "           8       0.92      0.94      0.93       361\n",
      "           9       0.92      0.93      0.92       401\n",
      "\n",
      "   micro avg       0.95      0.95      0.95      4000\n",
      "   macro avg       0.95      0.95      0.95      4000\n",
      "weighted avg       0.95      0.95      0.95      4000\n",
      "\n"
     ]
    }
   ],
   "source": [
    "# Checking accuracy\n",
    "\n",
    "from sklearn.metrics import confusion_matrix \n",
    "from sklearn.metrics import accuracy_score \n",
    "from sklearn.metrics import classification_report \n",
    " \n",
    "def accuracy(true_y, predicted_y):\n",
    "    results = confusion_matrix(true_y, predicted_y) \n",
    "    print ('Confusion Matrix:\\n')\n",
    "    print(results) \n",
    "    print ('Accuracy Score:',accuracy_score(true_y, predicted_y))\n",
    "    print ('Report:\\n')\n",
    "    print (classification_report(true_y, predicted_y))\n",
    "    \n",
    "print(\" ------- TRAINING SET ACCURACY -------\")\n",
    "accuracy(yTrain, results_training)"
   ]
  },
  {
   "cell_type": "code",
   "execution_count": 12,
   "metadata": {},
   "outputs": [
    {
     "name": "stdout",
     "output_type": "stream",
     "text": [
      " ------- TEST SET ACCURACY -------\n",
      "Confusion Matrix:\n",
      "\n",
      "[[ 86   0   0   0   0   0   0   0   0   0]\n",
      " [  0 107   0   1   0   0   0   0   3   0]\n",
      " [  1   2  93   1   2   0   1   1   2   1]\n",
      " [  0   1   5  81   0   7   0   3   1   1]\n",
      " [  1   0   1   0  85   0   0   0   1   2]\n",
      " [  0   0   0   5   0  74   1   1   6   4]\n",
      " [  1   0   0   0   0   1  99   0   0   0]\n",
      " [  0   2   1   0   3   0   1 111   1   4]\n",
      " [  1   7   0   3   2   4   3   1  77   3]\n",
      " [  0   0   0   0   2   0   1   7   0  84]]\n",
      "Accuracy Score: 0.897\n",
      "Report:\n",
      "\n",
      "              precision    recall  f1-score   support\n",
      "\n",
      "           0       0.96      1.00      0.98        86\n",
      "           1       0.90      0.96      0.93       111\n",
      "           2       0.93      0.89      0.91       104\n",
      "           3       0.89      0.82      0.85        99\n",
      "           4       0.90      0.94      0.92        90\n",
      "           5       0.86      0.81      0.84        91\n",
      "           6       0.93      0.98      0.96       101\n",
      "           7       0.90      0.90      0.90       123\n",
      "           8       0.85      0.76      0.80       101\n",
      "           9       0.85      0.89      0.87        94\n",
      "\n",
      "   micro avg       0.90      0.90      0.90      1000\n",
      "   macro avg       0.90      0.90      0.90      1000\n",
      "weighted avg       0.90      0.90      0.90      1000\n",
      "\n"
     ]
    }
   ],
   "source": [
    "print(\" ------- TEST SET ACCURACY -------\")\n",
    "accuracy(yTest, results_test)"
   ]
  },
  {
   "cell_type": "markdown",
   "metadata": {},
   "source": [
    "## Results\n",
    "\n",
    "aprox 90% accuracy on new data. Can be improved with more samples, smaller learning rate, regularization and more iterations."
   ]
  },
  {
   "cell_type": "code",
   "execution_count": null,
   "metadata": {},
   "outputs": [],
   "source": []
  }
 ],
 "metadata": {
  "kernelspec": {
   "display_name": "Python 3",
   "language": "python",
   "name": "python3"
  },
  "language_info": {
   "codemirror_mode": {
    "name": "ipython",
    "version": 3
   },
   "file_extension": ".py",
   "mimetype": "text/x-python",
   "name": "python",
   "nbconvert_exporter": "python",
   "pygments_lexer": "ipython3",
   "version": "3.7.3"
  }
 },
 "nbformat": 4,
 "nbformat_minor": 2
}
