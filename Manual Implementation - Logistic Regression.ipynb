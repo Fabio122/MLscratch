{
 "cells": [
  {
   "cell_type": "code",
   "execution_count": 11,
   "metadata": {},
   "outputs": [],
   "source": [
    "%matplotlib inline\n",
    "import numpy as np\n",
    "import matplotlib.pyplot as plt\n",
    "import seaborn as sns\n",
    "from sklearn import datasets"
   ]
  },
  {
   "cell_type": "code",
   "execution_count": 12,
   "metadata": {},
   "outputs": [],
   "source": [
    "iris = datasets.load_iris()"
   ]
  },
  {
   "cell_type": "code",
   "execution_count": 13,
   "metadata": {},
   "outputs": [],
   "source": [
    "X = iris.data[:, :2]\n",
    "y = (iris.target != 0) * 1"
   ]
  },
  {
   "cell_type": "code",
   "execution_count": 6,
   "metadata": {},
   "outputs": [
    {
     "data": {
      "image/png": "[encoded data removed]",
      "text/plain": [
       "<Figure size 720x432 with 1 Axes>"
      ]
     },
     "metadata": {
      "needs_background": "light"
     },
     "output_type": "display_data"
    }
   ],
   "source": [
    "plt.figure(figsize=(10, 6))\n",
    "plt.scatter(X[y == 0][:, 0], X[y == 0][:, 1], color='b', label='0')\n",
    "plt.scatter(X[y == 1][:, 0], X[y == 1][:, 1], color='r', label='1')\n",
    "plt.legend();\n",
    "\n"
   ]
  },
  {
   "cell_type": "code",
   "execution_count": 48,
   "metadata": {},
   "outputs": [
    {
     "name": "stdout",
     "output_type": "stream",
     "text": [
      "iteration: 1 cost: 0.6931471805599454\n",
      "iteration: 2 cost: 0.6101032138557548\n",
      "iteration: 3 cost: 0.6046588270071095\n",
      "iteration: 4 cost: 0.5994014409196932\n",
      "iteration: 5 cost: 0.5942181864590108\n",
      "iteration: 6 cost: 0.5891074091012614\n",
      "iteration: 7 cost: 0.5840681840401849\n",
      "iteration: 8 cost: 0.5790995891890454\n",
      "iteration: 9 cost: 0.5742007007482905\n",
      "iteration: 10 cost: 0.5693705939312856\n",
      "iteration: 11 cost: 0.5646083437697305\n",
      "iteration: 12 cost: 0.5599130258917608\n",
      "iteration: 13 cost: 0.5552837172661916\n",
      "iteration: 14 cost: 0.5507194969124156\n",
      "iteration: 15 cost: 0.546219446576031\n",
      "iteration: 16 cost: 0.5417826513704185\n",
      "iteration: 17 cost: 0.5374082003845893\n",
      "iteration: 18 cost: 0.533095187257727\n",
      "iteration: 19 cost: 0.5288427107209253\n",
      "iteration: 20 cost: 0.5246498751067046\n",
      "iteration: 21 cost: 0.520515790826957\n",
      "iteration: 22 cost: 0.5164395748200311\n",
      "iteration: 23 cost: 0.5124203509677178\n",
      "iteration: 24 cost: 0.5084572504829482\n",
      "iteration: 25 cost: 0.5045494122690473\n",
      "iteration: 26 cost: 0.5006959832514238\n",
      "iteration: 27 cost: 0.49689611868259853\n",
      "iteration: 28 cost: 0.49314898242149546\n",
      "iteration: 29 cost: 0.48945374718793183\n",
      "iteration: 30 cost: 0.4858095947932554\n",
      "iteration: 31 cost: 0.482215716348079\n",
      "iteration: 32 cost: 0.4786713124480652\n",
      "iteration: 33 cost: 0.47517559333870946\n",
      "iteration: 34 cost: 0.47172777906006264\n",
      "iteration: 35 cost: 0.4683270995723259\n",
      "iteration: 36 cost: 0.46497279486323645\n",
      "iteration: 37 cost: 0.4616641150381479\n",
      "iteration: 38 cost: 0.45840032039369294\n",
      "iteration: 39 cost: 0.4551806814758934\n",
      "iteration: 40 cost: 0.4520044791235682\n",
      "iteration: 41 cost: 0.4488710044978605\n",
      "iteration: 42 cost: 0.4457795590986862\n",
      "iteration: 43 cost: 0.442729454768882\n",
      "iteration: 44 cost: 0.43972001368680436\n",
      "iteration: 45 cost: 0.4367505683481064\n",
      "iteration: 46 cost: 0.4338204615373934\n",
      "iteration: 47 cost: 0.4309290462904329\n",
      "iteration: 48 cost: 0.4280756858475671\n",
      "iteration: 49 cost: 0.42525975359895135\n",
      "iteration: 50 cost: 0.42248063302221556\n",
      "iteration: 51 cost: 0.41973771761311846\n",
      "iteration: 52 cost: 0.4170304108097428\n",
      "iteration: 53 cost: 0.41435812591075033\n",
      "iteration: 54 cost: 0.4117202859881943\n",
      "iteration: 55 cost: 0.40911632379536117\n",
      "iteration: 56 cost: 0.40654568167008964\n",
      "iteration: 57 cost: 0.404007811433997\n",
      "iteration: 58 cost: 0.401502174288011\n",
      "iteration: 59 cost: 0.39902824070459453\n",
      "iteration: 60 cost: 0.39658549031702267\n",
      "iteration: 61 cost: 0.39417341180605414\n",
      "iteration: 62 cost: 0.3917915027843187\n",
      "iteration: 63 cost: 0.3894392696787251\n",
      "iteration: 64 cost: 0.38711622761117337\n",
      "iteration: 65 cost: 0.38482190027784186\n",
      "iteration: 66 cost: 0.38255581982729775\n",
      "iteration: 67 cost: 0.38031752673766944\n",
      "iteration: 68 cost: 0.37810656969309925\n",
      "iteration: 69 cost: 0.37592250545968386\n",
      "iteration: 70 cost: 0.37376489876109387\n",
      "iteration: 71 cost: 0.37163332215405154\n",
      "iteration: 72 cost: 0.3695273559038337\n",
      "iteration: 73 cost: 0.3674465878599528\n",
      "iteration: 74 cost: 0.3653906133321612\n",
      "iteration: 75 cost: 0.3633590349669096\n",
      "iteration: 76 cost: 0.36135146262438145\n",
      "iteration: 77 cost: 0.3593675132562182\n",
      "iteration: 78 cost: 0.3574068107840347\n",
      "iteration: 79 cost: 0.355468985978823\n",
      "iteration: 80 cost: 0.35355367634132934\n",
      "iteration: 81 cost: 0.3516605259834828\n",
      "iteration: 82 cost: 0.3497891855109485\n",
      "iteration: 83 cost: 0.3479393119068684\n",
      "iteration: 84 cost: 0.34611056841684834\n",
      "iteration: 85 cost: 0.34430262443524495\n",
      "iteration: 86 cost: 0.34251515539279676\n",
      "iteration: 87 cost: 0.34074784264564184\n",
      "iteration: 88 cost: 0.3390003733657576\n",
      "iteration: 89 cost: 0.3372724404328559\n",
      "iteration: 90 cost: 0.3355637423277579\n",
      "iteration: 91 cost: 0.33387398302727306\n",
      "iteration: 92 cost: 0.3322028719006032\n",
      "iteration: 93 cost: 0.3305501236072841\n",
      "iteration: 94 cost: 0.3289154579966791\n",
      "iteration: 95 cost: 0.32729860000903466\n",
      "iteration: 96 cost: 0.3256992795781018\n",
      "iteration: 97 cost: 0.32411723153533\n",
      "iteration: 98 cost: 0.32255219551563347\n",
      "iteration: 99 cost: 0.3210039158647296\n"
     ]
    }
   ],
   "source": [
    "\n",
    "\n",
    "\n",
    "def logRegression(X, y, theta, learning_rate, iterations):\n",
    "    for i in range(1, iterations):\n",
    "        z = np.dot(X, theta)\n",
    "        prediction = 1/(1+np.exp(-z))\n",
    "        gradient = np.dot(X.T, (prediction-y)) /y.size\n",
    "        theta = theta - learning_rate * gradient\n",
    "        cost = (-y * np.log(prediction) - (1 - y) * np.log(1 - prediction)).mean()\n",
    "        print(\"iteration:\", i, \"cost:\", cost)\n",
    "    return theta\n",
    "    \n",
    "learning_rate = 0.1\n",
    "iterations = 1000\n",
    "theta = np.zeros(X.shape[1])\n",
    "\n",
    "parameters = logRegression(X,y, theta, learning_rate, iterations)\n"
   ]
  },
  {
   "cell_type": "code",
   "execution_count": 47,
   "metadata": {},
   "outputs": [
    {
     "data": {
      "text/plain": [
       "array([  7.46156376, -13.00956634])"
      ]
     },
     "execution_count": 47,
     "metadata": {},
     "output_type": "execute_result"
    }
   ],
   "source": [
    "parameters"
   ]
  },
  {
   "cell_type": "code",
   "execution_count": null,
   "metadata": {},
   "outputs": [],
   "source": []
  },
  {
   "cell_type": "code",
   "execution_count": null,
   "metadata": {},
   "outputs": [],
   "source": []
  }
 ],
 "metadata": {
  "kernelspec": {
   "display_name": "Python 3",
   "language": "python",
   "name": "python3"
  }
 },
 "nbformat": 4,
 "nbformat_minor": 2
}
