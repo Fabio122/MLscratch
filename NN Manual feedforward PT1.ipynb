{
 "cells": [
  {
   "cell_type": "code",
   "execution_count": 1,
   "metadata": {},
   "outputs": [],
   "source": [
    "import numpy as np"
   ]
  },
  {
   "cell_type": "code",
   "execution_count": 10,
   "metadata": {},
   "outputs": [],
   "source": [
    "def sigmoid(z):\n",
    "    return 1.0/(1.0 + np.exp(-z))\n",
    "\n",
    "class layer:\n",
    "    def __init__(self, weight, bias):\n",
    "        self.weight = weight\n",
    "        self.bias = bias\n",
    "    \n",
    "    def feedforward(self, inputs):\n",
    "        z = np.dot(inputs, self.weight) + self.bias\n",
    "        return sigmoid(z)"
   ]
  },
  {
   "cell_type": "code",
   "execution_count": 65,
   "metadata": {},
   "outputs": [
    {
     "name": "stdout",
     "output_type": "stream",
     "text": [
      "y shape: (1, 10)\n"
     ]
    }
   ],
   "source": [
    "# Inputs\n",
    "\n",
    "# 3 features, 10 training examples\n",
    "x = np.random.random((10,3))\n",
    "x.shape\n",
    "\n",
    "# Outputs\n",
    "\n",
    "y = np.array([1,0,1,1,0,0,0,0,0,1])\n",
    "y = y.reshape(1,10)\n",
    "print(\"y shape:\", y.shape)"
   ]
  },
  {
   "cell_type": "markdown",
   "metadata": {},
   "source": [
    "# Layer 1 "
   ]
  },
  {
   "cell_type": "code",
   "execution_count": 37,
   "metadata": {},
   "outputs": [
    {
     "name": "stdout",
     "output_type": "stream",
     "text": [
      "Shape of weight matrix 1: (3, 5)\n",
      "Shape of bias 1: (1, 5)\n",
      "Shape of output off of layer 1: (10, 5)\n"
     ]
    }
   ],
   "source": [
    "### Layer 1 ### 3 inputs to 5 neurons\n",
    "\n",
    "# Weight Matrix -> 3 x 5\n",
    "first_layer_weights = np.random.random((3,5))\n",
    "print(\"Shape of weight matrix 1:\", first_layer_weights.shape)\n",
    "\n",
    "# 5 neurons, 5 biases (1 row of 5 numbers)\n",
    "first_layer_biases = np.random.random((1,5))\n",
    "print(\"Shape of bias 1:\", first_layer_biases.shape)\n",
    "\n",
    "# Creating layer 1\n",
    "layer_1 = layer(first_layer_weights, first_layer_biases)\n",
    "\n",
    "# Getting the output from layer 1\n",
    "layer_1_output = layer_1.feedforward(x)\n",
    "print(\"Shape of output off of layer 1:\", layer_1_output.shape)\n",
    "\n",
    "#### Columns = inputs"
   ]
  },
  {
   "cell_type": "markdown",
   "metadata": {},
   "source": [
    "# Layer 2"
   ]
  },
  {
   "cell_type": "code",
   "execution_count": 38,
   "metadata": {},
   "outputs": [
    {
     "name": "stdout",
     "output_type": "stream",
     "text": [
      "Shape of weight matrix 2: (5, 5)\n",
      "Shape of bias 2: (1, 5)\n",
      "Shape of output off of layer 1: (10, 5)\n"
     ]
    }
   ],
   "source": [
    "### Layer 2 ###  5 inputs to 5 neurons\n",
    "\n",
    "# Weight Matrix -> 5 x 5\n",
    "second_layer_weights = np.random.random((5,5))\n",
    "print(\"Shape of weight matrix 2:\", second_layer_weights.shape)\n",
    "\n",
    "# 5 neurons, 5 biases.\n",
    "second_layer_biases = np.random.random((1,5))\n",
    "print(\"Shape of bias 2:\", second_layer_biases.shape)\n",
    "\n",
    "##### Creating Layer 2\n",
    "layer_2 = layer(second_layer_weights, second_layer_biases)\n",
    "\n",
    "# Getting output from Layer 2\n",
    "layer_2_output = layer_2.feedforward(layer_1_output)\n",
    "print(\"Shape of output off of layer 1:\", layer_2_output.shape)"
   ]
  },
  {
   "cell_type": "markdown",
   "metadata": {},
   "source": [
    "# Layer 3 - Output"
   ]
  },
  {
   "cell_type": "code",
   "execution_count": 78,
   "metadata": {},
   "outputs": [
    {
     "name": "stdout",
     "output_type": "stream",
     "text": [
      "Shape of weight matrix 3: (5, 1)\n",
      "Shape of bias 3: (1, 5)\n",
      "Shape of the output: (10, 1)\n"
     ]
    },
    {
     "data": {
      "text/plain": [
       "array([[0.81763192],\n",
       "       [0.81769733],\n",
       "       [0.81771037],\n",
       "       [0.81944063],\n",
       "       [0.81855244],\n",
       "       [0.81756303],\n",
       "       [0.81803325],\n",
       "       [0.81753719],\n",
       "       [0.81719235],\n",
       "       [0.81566163]])"
      ]
     },
     "execution_count": 78,
     "metadata": {},
     "output_type": "execute_result"
    }
   ],
   "source": [
    "### Layer 3 -> Output layer. 5 inputs to 1 neuron. (that produces 1 result)\n",
    "\n",
    "# Weight Matrix 5 x 1\n",
    "layer_3_weights = np.random.random((5,1))\n",
    "print(\"Shape of weight matrix 3:\", layer_3_weights.shape)\n",
    "\n",
    "# Bias vector, 1 neuron, 1 bias.\n",
    "layer_3_bias = np.random.random((1,1))\n",
    "print(\"Shape of bias 3:\", first_layer_biases.shape)\n",
    "\n",
    "# Creating Layer 3\n",
    "layer_3 = layer(layer_3_weights, layer_3_bias)\n",
    "\n",
    "# Final output:\n",
    "output = layer_3.feedforward(layer_2_output)\n",
    "print(\"Shape of the output:\", output.shape)\n",
    "output"
   ]
  },
  {
   "cell_type": "code",
   "execution_count": 97,
   "metadata": {},
   "outputs": [],
   "source": [
    "# Calculating delta_L (cost of the last layer)\n",
    "\n",
    "delta_L = output.T - y"
   ]
  },
  {
   "cell_type": "code",
   "execution_count": 99,
   "metadata": {},
   "outputs": [
    {
     "data": {
      "text/plain": [
       "(1, 10)"
      ]
     },
     "execution_count": 99,
     "metadata": {},
     "output_type": "execute_result"
    }
   ],
   "source": [
    "delta_L.shape"
   ]
  },
  {
   "cell_type": "code",
   "execution_count": 114,
   "metadata": {},
   "outputs": [],
   "source": [
    "### Back Propagation!\n",
    "\n",
    "# Calculating delta_2 (cost of the 2rd Layer)\n",
    "\n",
    "delta_2 = np.dot(layer_3.weight, delta_L) * layer_2_output.T * (1 - layer_2_output.T)\n",
    "\n",
    "# Calculating delta_1 (cost of 1st layer)\n",
    "delta_1 = np.dot(layer_2.weight, delta_2) * layer_1_output.T * (1 - layer_1_output.T)"
   ]
  },
  {
   "cell_type": "markdown",
   "metadata": {},
   "source": [
    "# Part 2 (Full Back Prop.)"
   ]
  },
  {
   "cell_type": "code",
   "execution_count": null,
   "metadata": {},
   "outputs": [],
   "source": []
  }
 ],
 "metadata": {
  "kernelspec": {
   "display_name": "Python 3",
   "language": "python",
   "name": "python3"
  },
  "language_info": {
   "codemirror_mode": {
    "name": "ipython",
    "version": 3
   },
   "file_extension": ".py",
   "mimetype": "text/x-python",
   "name": "python",
   "nbconvert_exporter": "python",
   "pygments_lexer": "ipython3",
   "version": "3.7.3"
  }
 },
 "nbformat": 4,
 "nbformat_minor": 2
}
