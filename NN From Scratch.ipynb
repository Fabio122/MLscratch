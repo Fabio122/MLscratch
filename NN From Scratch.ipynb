{
 "cells": [
  {
   "cell_type": "code",
   "execution_count": 22,
   "metadata": {},
   "outputs": [],
   "source": [
    "import numpy as np\n",
    "from numpy.random import RandomState"
   ]
  },
  {
   "cell_type": "code",
   "execution_count": 2,
   "metadata": {},
   "outputs": [],
   "source": [
    "def sigmoid(x):\n",
    "    # Sigmoid activation function: f(x) = 1 / (1 + e^(-x))\n",
    "    return 1 / (1 + np.exp(-x))\n",
    "\n",
    "# Derived sigmoid function\n",
    "def deriv_sigmoid(x):\n",
    "    # Derivative of sigmoid: f'(x) = f(x) * (1 - f(x))\n",
    "    fx = sigmoid(x)\n",
    "    return fx * (1 - fx)\n",
    "\n",
    "# Squared error function\n",
    "def mse_loss(y_true, y_pred):\n",
    "  # y_true and y_pred are numpy arrays of the same length.\n",
    "  return ((y_true - y_pred) ** 2).mean()\n"
   ]
  },
  {
   "cell_type": "code",
   "execution_count": 115,
   "metadata": {},
   "outputs": [],
   "source": [
    "class Neural_Network:\n",
    "    ''' This neural network has :\n",
    "        - 2 inputs (x1, x2) (1 training example)\n",
    "        - a hidden layer with 2 neurons (h1, h2)\n",
    "        - an output layer with 1 neuron(o1)\n",
    "    '''\n",
    "    \n",
    "    def __init__(self):\n",
    "        # Initializing Weights\n",
    "        # 3 neurons total, 2 features = 6 weights\n",
    "        self.w1 = np.random.normal()\n",
    "        self.w2 = np.random.normal()\n",
    "        self.w3 = np.random.normal()\n",
    "        self.w4 = np.random.normal()\n",
    "        self.w5 = np.random.normal()\n",
    "        self.w6 = np.random.normal()\n",
    "        \n",
    "        # Biases\n",
    "        # 3 neurons = 3 biases\n",
    "        self.b1 = np.random.normal()\n",
    "        self.b2 = np.random.normal()\n",
    "        self.b3 = np.random.normal()\n",
    "    \n",
    "    def feedforward(self, x):\n",
    "        h1 = sigmoid(self.w1 * x[0] + self.w2 * x[1] + self.b1)\n",
    "        h2 = sigmoid(self.w3 * x[0]+ self.w4 * x[1] + self.b2)\n",
    "        o1 = sigmoid(self.w5 * h1 + self.w6 * h2 + self.b3)\n",
    "        return o1\n",
    "   \n",
    "    def train(self, data, all_true_y):\n",
    "        '''\n",
    "        - data is (n x m) numpy matrix. n = # of samples. m = features\n",
    "        in our case, n = 1, m = 2\n",
    "        - all_true_y = array with n elements of labels\n",
    "        '''\n",
    "        \n",
    "        learning_rate = 0.1\n",
    "        epochs = 1000 # number of iterations\n",
    "        for epoch in range(epochs):\n",
    "            for x, y_true in zip(data, all_true_y):\n",
    "#                 print(self.w1,self.w2,self.w3,self.w4,self.w5,self.w6)\n",
    "#                 print(\"x:\", x)\n",
    "#                 print(\"y_true:\", y_true)\n",
    "#                 x: [1 2]\n",
    "#                 y_true: 1\n",
    "#                 x: [1 2]\n",
    "#                 y_true: 1\n",
    "                weighted_sum_h1 = self.w1 * x[0] + self.w2 * x[1] + self.b1\n",
    "                h1_out = sigmoid(weighted_sum_h1)\n",
    "                \n",
    "                weighted_sum_h2 = self.w3 * x[0] + self.w4 * x[1] + self.b2\n",
    "                h2_out = sigmoid(weighted_sum_h2)\n",
    "                \n",
    "                weighted_sum_o1 = self.w5 * h1_out + self.w6 * h2_out + self.b3\n",
    "                o1 = sigmoid(weighted_sum_o1)\n",
    "                \n",
    "                y_pred = o1\n",
    "                \n",
    "                # --- Calculate partial derivatives\n",
    "                \n",
    "                # We eventually need d_L__d_w1 -> \"Partial L / Partial w1\"\n",
    "                # but we need to find the other derivatives that makes it up\n",
    "                # 1st\n",
    "                \n",
    "                d_L__d_ypred = -2 * (y_true - y_pred)\n",
    "                \n",
    "                # Back propagation\n",
    "                \n",
    "                # Neuron o1\n",
    "                d_ypred__d_w5 = h1_out * deriv_sigmoid(weighted_sum_o1)\n",
    "                d_ypred__d_w6 = h2_out * deriv_sigmoid(weighted_sum_o1)\n",
    "                d_ypred__d_b3 = deriv_sigmoid(weighted_sum_o1)\n",
    "                \n",
    "                d_y_pred__d_h1 = self.w5 * deriv_sigmoid(weighted_sum_o1)\n",
    "                d_y_pred__d_h2 = self.w6 * deriv_sigmoid(weighted_sum_o1)\n",
    "                \n",
    "                \n",
    "                # Neuron h1\n",
    "                d_h1__d_w1 = x[0] * deriv_sigmoid(weighted_sum_h1)\n",
    "                d_h1__d_w2 = x[1] * deriv_sigmoid(weighted_sum_h1)\n",
    "                d_h1__d_b1 = deriv_sigmoid(weighted_sum_h1)\n",
    "                \n",
    "                # Neuron h2\n",
    "                d_h2__d_w3 = x[0] * deriv_sigmoid(weighted_sum_h2)\n",
    "                d_h2__d_w4 = x[1] * deriv_sigmoid(weighted_sum_h2)\n",
    "                d_h2__d_b2 = deriv_sigmoid(weighted_sum_h2)\n",
    "                \n",
    "                # ---- updating weights and biases\n",
    "                # Neuron h1\n",
    "                self.w1 -= learning_rate * d_L__d_ypred * d_y_pred__d_h1 * d_h1__d_w1\n",
    "                self.w2 -= learning_rate * d_L__d_ypred * d_y_pred__d_h1 * d_h1__d_w2\n",
    "                self.b1 -= learning_rate * d_L__d_ypred * d_y_pred__d_h1 * d_h1__d_b1\n",
    "                \n",
    "                # Neuron h2\n",
    "                \n",
    "                self.w3 -= learning_rate * d_L__d_ypred * d_y_pred__d_h2 * d_h2__d_w3\n",
    "                self.w4 -= learning_rate * d_L__d_ypred * d_y_pred__d_h2 * d_h2__d_w4\n",
    "                self.b2 -= learning_rate * d_L__d_ypred * d_y_pred__d_h2 * d_h2__d_b2\n",
    "                \n",
    "                # Neuron o1\n",
    "                \n",
    "                self.w5 -= learning_rate * d_L__d_ypred * d_ypred__d_w5\n",
    "                self.w6 -= learning_rate * d_L__d_ypred * d_ypred__d_w6\n",
    "                self.b3 -= learning_rate * d_L__d_ypred * d_ypred__d_b3\n",
    "                \n",
    "                # --- calculate total loss at the end of each epoch\n",
    "                \n",
    "                final_coeff = [self.w1, self.w2,self.w3,self.w4,self.w5,self.w6]\n",
    "                if epoch %100 == 0:\n",
    "                    loss = mse_loss(all_true_y, y_pred)\n",
    "                    print(loss)\n",
    "        return final_coeff"
   ]
  },
  {
   "cell_type": "code",
   "execution_count": 116,
   "metadata": {},
   "outputs": [
    {
     "name": "stdout",
     "output_type": "stream",
     "text": [
      "0.2312409774321624\n",
      "0.035126987621985004\n",
      "0.01635472774634446\n",
      "0.010270162439855478\n",
      "0.007359638899320088\n",
      "0.005678022239663181\n",
      "0.0045915643831071625\n",
      "0.0038358071587366546\n",
      "0.0032817772086909556\n",
      "0.0028594078377168846\n"
     ]
    }
   ],
   "source": [
    "x = np.array([[1,2]])\n",
    "\n",
    "y = np.array([1])\n",
    "\n",
    "temp = Neural_Network()\n",
    "\n",
    "coeff = temp.train(x, y)\n"
   ]
  },
  {
   "cell_type": "code",
   "execution_count": 117,
   "metadata": {},
   "outputs": [
    {
     "data": {
      "text/plain": [
       "[0.4928670557538986,\n",
       " -1.3888762764835307,\n",
       " 0.7064311133944525,\n",
       " -0.40918281967197406,\n",
       " -1.9704285246870112,\n",
       " 0.5373142435935514]"
      ]
     },
     "execution_count": 117,
     "metadata": {},
     "output_type": "execute_result"
    }
   ],
   "source": [
    "coeff"
   ]
  },
  {
   "cell_type": "code",
   "execution_count": 28,
   "metadata": {},
   "outputs": [],
   "source": []
  },
  {
   "cell_type": "code",
   "execution_count": null,
   "metadata": {},
   "outputs": [],
   "source": []
  }
 ],
 "metadata": {
  "kernelspec": {
   "display_name": "Python 3",
   "language": "python",
   "name": "python3"
  },
  "language_info": {
   "codemirror_mode": {
    "name": "ipython",
    "version": 3
   },
   "file_extension": ".py",
   "mimetype": "text/x-python",
   "name": "python",
   "nbconvert_exporter": "python",
   "pygments_lexer": "ipython3",
   "version": "3.7.3"
  }
 },
 "nbformat": 4,
 "nbformat_minor": 2
}
