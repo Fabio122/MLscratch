{
 "cells": [
  {
   "cell_type": "code",
   "execution_count": 33,
   "metadata": {},
   "outputs": [],
   "source": [
    "import pandas as pd\n",
    "import numpy as np\n",
    "import matplotlib.pyplot as plt\n",
    "%matplotlib inline\n",
    "import seaborn as sns\n",
    "plt.style.use('seaborn-whitegrid')\n",
    "\n",
    "# Generate random data\n",
    "X = 2 * np.random.rand(100,1)\n",
    "y = 2+ 3 * X + np.random.randn(100,1)\n",
    "\n",
    "# Add ones\n",
    "m = y.size\n",
    "x_0 = np.ones((m,1))\n",
    "X = np.hstack((x_0, X))\n",
    "\n",
    "# Initialize theta\n",
    "theta = np.ones((X.shape[1])) \n"
   ]
  },
  {
   "cell_type": "code",
   "execution_count": 34,
   "metadata": {},
   "outputs": [
    {
     "name": "stdout",
     "output_type": "stream",
     "text": [
      "Slope:\n",
      " 2.075934416837353 \n",
      "Intercept:\n",
      " 2.9799697168426893\n"
     ]
    }
   ],
   "source": [
    "\n",
    "def batch_gd (X, y, learning_rate, iterations, theta):\n",
    "    for i in range(1, iterations):\n",
    "        predictions = np.dot(X, theta)\n",
    "        loss = predictions - y.ravel()\n",
    "        cost = (1/2*m) * np.sum(loss**2)\n",
    "        theta = theta - (1/m) * 0.01 * np.dot(X.T, loss)\n",
    "    return theta, cost\n",
    "\n",
    "learning_rate = 0.1\n",
    "iterations = 1000\n",
    "\n",
    "parameters, cost = batch_gd(X,y, learning_rate, iterations, theta)\n",
    "print(\"Slope:\\n\",parameters[0],\"\\nIntercept:\\n\", parameters[1])\n",
    "slope, intercept= parameters"
   ]
  },
  {
   "cell_type": "code",
   "execution_count": 35,
   "metadata": {},
   "outputs": [
    {
     "data": {
      "image/png": "[encoded data removed]",
      "text/plain": [
       "<Figure size 432x288 with 1 Axes>"
      ]
     },
     "metadata": {},
     "output_type": "display_data"
    }
   ],
   "source": [
    "# Plot it\n",
    "x_line = np.linspace(-1,3,10)\n",
    "line = slope*x+intercept\n",
    "plt.scatter(X[:,1],y)\n",
    "plt.plot(x_line, line, '-r')\n",
    "\n",
    "plt.show()"
   ]
  },
  {
   "cell_type": "code",
   "execution_count": null,
   "metadata": {},
   "outputs": [],
   "source": []
  },
  {
   "cell_type": "code",
   "execution_count": null,
   "metadata": {},
   "outputs": [],
   "source": []
  },
  {
   "cell_type": "code",
   "execution_count": null,
   "metadata": {},
   "outputs": [],
   "source": []
  },
  {
   "cell_type": "code",
   "execution_count": null,
   "metadata": {},
   "outputs": [],
   "source": []
  },
  {
   "cell_type": "code",
   "execution_count": null,
   "metadata": {},
   "outputs": [],
   "source": [
    "\n",
    "    \n"
   ]
  },
  {
   "cell_type": "code",
   "execution_count": null,
   "metadata": {},
   "outputs": [],
   "source": []
  }
 ],
 "metadata": {
  "kernelspec": {
   "display_name": "Python 3",
   "language": "python",
   "name": "python3"
  },
  "language_info": {
   "codemirror_mode": {
    "name": "ipython",
    "version": 3
   },
   "file_extension": ".py",
   "mimetype": "text/x-python",
   "name": "python",
   "nbconvert_exporter": "python",
   "pygments_lexer": "ipython3",
   "version": "3.7.3"
  }
 },
 "nbformat": 4,
 "nbformat_minor": 2
}
